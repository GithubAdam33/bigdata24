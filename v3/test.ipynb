{
 "cells": [
  {
   "cell_type": "markdown",
   "metadata": {},
   "source": [
    "# EDA"
   ]
  },
  {
   "cell_type": "markdown",
   "metadata": {},
   "source": [
    "## Temperature"
   ]
  },
  {
   "cell_type": "code",
   "execution_count": 1,
   "metadata": {},
   "outputs": [
    {
     "name": "stdout",
     "output_type": "stream",
     "text": [
      "(17544, 3850, 1)\n"
     ]
    }
   ],
   "source": [
    "import torch\n",
    "import os\n",
    "import numpy as np\n",
    "import pandas as pd\n",
    "import matplotlib.pyplot as plt\n",
    "\n",
    "\n",
    "root_path = '/root/mine/BDC2024/dataset/global'\n",
    "\n",
    "temp_data = np.load(os.path.join(root_path, 'temp.npy')) # (17544, 3850, 1)\n",
    "print(temp_data.shape)"
   ]
  },
  {
   "cell_type": "code",
   "execution_count": null,
   "metadata": {},
   "outputs": [],
   "source": [
    "# temp_data_1year = temp_data[:365*24, :, 0]\n",
    "# temp_df = pd.DataFrame(temp_data_1year) # 8760 x 3850\n",
    "temp_data = temp_data[:, :, 0]\n",
    "temp_df = pd.DataFrame(temp_data) # 17544 x 3850\n",
    "print(temp_df.shape)"
   ]
  },
  {
   "cell_type": "code",
   "execution_count": null,
   "metadata": {},
   "outputs": [],
   "source": [
    "# 夏天平均气温应大于15度, 用于排除与中国气候不符的站点\n",
    "summer_df = pd.concat([temp_df.iloc[4000:6000], temp_df.iloc[4000+365*24:6000+365*24]]) # TODO: 改变夏天范围\n",
    "print(summer_df.shape)\n",
    "summer_idx = summer_df.mean(axis=0).apply(lambda x: x > 15) # TODO: 修改温度\n",
    "summer_idx = summer_idx[summer_idx].index.to_list()\n",
    "print(f\"{len(summer_idx)/temp_data.shape[1]} of the stations have an average temperature above 15 degrees in summer.\")\n",
    "print(summer_idx)"
   ]
  },
  {
   "cell_type": "code",
   "execution_count": null,
   "metadata": {},
   "outputs": [],
   "source": [
    "# 冬天平均气温应低于20度, 用于排除与中国气候不符的站点\n",
    "winter_df = pd.concat([temp_df.iloc[0:600], temp_df.iloc[0+365*24:600+365*24]]) # TODO: 改变冬天范围\n",
    "print(winter_df.shape)\n",
    "winter_idx = winter_df.mean(axis=0).apply(lambda x: x < 20) # TODO: 修改温度\n",
    "winter_idx = winter_idx[winter_idx].index.to_list()\n",
    "print(f\"{len(winter_idx)/temp_data.shape[1]} of the stations have an average temperature below 20 degrees in winter.\")\n",
    "print(winter_idx)"
   ]
  },
  {
   "cell_type": "code",
   "execution_count": null,
   "metadata": {},
   "outputs": [],
   "source": [
    "# 选取夏天和冬天都符合条件的站点(即交集)\n",
    "selected_idx = list(set(summer_idx) & set(winter_idx)) # TODO: set(north_idx)\n",
    "print(f\"Selected {len(selected_idx)} stations.\")\n",
    "print(selected_idx)\n",
    "# TODO: selected_idx 还应对风速和global进行过滤"
   ]
  },
  {
   "cell_type": "markdown",
   "metadata": {},
   "source": [
    "## Filter"
   ]
  },
  {
   "cell_type": "code",
   "execution_count": 2,
   "metadata": {},
   "outputs": [
    {
     "name": "stdout",
     "output_type": "stream",
     "text": [
      "(5848, 4, 9, 3850) (17544, 3850, 1) (17544, 3850, 1)\n"
     ]
    }
   ],
   "source": [
    "# 全量划分用\n",
    "selected_idx = np.arange(3850)\n",
    "\n",
    "# TODO: 同时使用此index对风速和global进行筛选\n",
    "temp_data = np.load(os.path.join(root_path, 'temp.npy')) # (17544, 3850, 1)\n",
    "global_data = np.load(os.path.join(root_path, 'global_data.npy')) # (5848, 4, 9, 3850)\n",
    "wind_data = np.load(os.path.join(root_path, 'wind.npy')) # (17544, 3850, 1)\n",
    "\n",
    "global_selected = global_data[:, :, :, selected_idx]\n",
    "temp_selected = temp_data[:, selected_idx, :]\n",
    "wind_selected = wind_data[:, selected_idx, :]\n",
    "\n",
    "print(global_selected.shape, temp_selected.shape, wind_selected.shape)"
   ]
  },
  {
   "cell_type": "code",
   "execution_count": 3,
   "metadata": {},
   "outputs": [
    {
     "name": "stdout",
     "output_type": "stream",
     "text": [
      "       0     1     2     3     4     5     6     7     8     9     ...  3840  \\\n",
      "0       1.0   8.2   8.8  10.0   9.6   6.0   9.4  10.2   9.2   8.1  ...  25.0   \n",
      "1       0.2   8.2   8.3  10.1  10.5   6.6   9.4   9.6   8.5   7.5  ...  28.0   \n",
      "2       0.5   8.2   8.4  10.5  10.5   6.2   9.4   8.7   8.1   7.4  ...  31.0   \n",
      "3       0.1   8.7   8.6   9.7   8.6   5.9   9.4   8.7   8.7   8.0  ...  31.0   \n",
      "4       0.2   9.2   8.4   8.7   8.1   5.5   9.4   8.5   8.7   7.6  ...  32.0   \n",
      "...     ...   ...   ...   ...   ...   ...   ...   ...   ...   ...  ...   ...   \n",
      "17539  -1.7   4.2   3.7   5.5   7.0   5.1   5.5   5.5   3.7   6.2  ...  22.0   \n",
      "17540  -1.4   4.5   3.8   5.5   7.0   5.3   5.0   5.2   4.0   6.2  ...  24.0   \n",
      "17541  -1.2   4.2   4.2   5.2   6.7   5.1   4.7   5.2   4.2   6.0  ...  26.0   \n",
      "17542  -1.5   4.1   4.2   5.5   6.7   5.2   4.6   5.0   4.2   6.3  ...  30.0   \n",
      "17543  -2.2   4.2   4.3   5.5   6.2   4.7   5.1   4.7   4.5   6.4  ...  31.0   \n",
      "\n",
      "       3841  3842  3843  3844  3845  3846  3847  3848  3849  \n",
      "0      21.5  28.7  21.7  23.0  25.0  21.0  27.0  25.0  25.0  \n",
      "1      22.7  30.3  22.2  25.2  27.0  22.0  30.0  27.0  29.0  \n",
      "2      24.0  31.2  23.2  26.7  29.0  24.0  33.0  29.0  31.0  \n",
      "3      25.7  32.9  25.2  29.1  31.0  24.0  35.0  31.0  32.0  \n",
      "4      24.8  32.8  26.3  30.1  28.0  24.0  38.0  33.0  34.0  \n",
      "...     ...   ...   ...   ...   ...   ...   ...   ...   ...  \n",
      "17539  16.1  17.2  17.6  14.5  21.0  22.0  20.0  22.0  20.0  \n",
      "17540  16.1  17.5  17.7  15.1  20.0  22.0  19.0  21.0  22.0  \n",
      "17541  17.7  20.0  20.4  16.5  19.0  22.0  18.0  21.0  21.0  \n",
      "17542  20.4  23.4  22.0  21.1  20.0  22.0  18.0  21.0  21.0  \n",
      "17543  21.6  26.1  22.1  24.3  22.0  23.0  20.0  22.0  22.0  \n",
      "\n",
      "[17544 rows x 3850 columns]\n"
     ]
    }
   ],
   "source": [
    "df_temp = pd.DataFrame(temp_selected[:, :, 0])\n",
    "df_wind = pd.DataFrame(wind_selected[:, :, 0])\n",
    "print(df_temp)"
   ]
  },
  {
   "cell_type": "code",
   "execution_count": 29,
   "metadata": {},
   "outputs": [
    {
     "data": {
      "text/plain": [
       "<Axes: >"
      ]
     },
     "execution_count": 29,
     "metadata": {},
     "output_type": "execute_result"
    },
    {
     "data": {
      "image/png": "[encoded data removed]",
      "text/plain": [
       "<Figure size 640x480 with 1 Axes>"
      ]
     },
     "metadata": {},
     "output_type": "display_data"
    }
   ],
   "source": [
    "df_temp.loc[0].plot()"
   ]
  },
  {
   "cell_type": "code",
   "execution_count": 30,
   "metadata": {},
   "outputs": [
    {
     "data": {
      "text/plain": [
       "<Axes: >"
      ]
     },
     "execution_count": 30,
     "metadata": {},
     "output_type": "execute_result"
    },
    {
     "data": {
      "image/png": "[encoded data removed]",
      "text/plain": [
       "<Figure size 640x480 with 1 Axes>"
      ]
     },
     "metadata": {},
     "output_type": "display_data"
    }
   ],
   "source": [
    "df_temp[0].plot()"
   ]
  },
  {
   "cell_type": "code",
   "execution_count": 4,
   "metadata": {},
   "outputs": [
    {
     "name": "stdout",
     "output_type": "stream",
     "text": [
      "           0         1         2          3          4         5         6     \\\n",
      "0      1.000000  8.200000  8.800000  10.000000   9.600000  6.000000  9.400000   \n",
      "1      0.600000  8.200000  8.550000  10.050000  10.050000  6.300000  9.400000   \n",
      "2      0.566667  8.200000  8.500000  10.200000  10.200000  6.266667  9.400000   \n",
      "3      0.450000  8.325000  8.525000  10.075000   9.800000  6.175000  9.400000   \n",
      "4      0.400000  8.500000  8.500000   9.800000   9.460000  6.040000  9.400000   \n",
      "...         ...       ...       ...        ...        ...       ...       ...   \n",
      "17539 -1.645238  2.538095  2.801190   3.306548   4.583333  4.133929  3.388690   \n",
      "17540 -1.637500  2.551786  2.828571   3.351190   4.598214  4.152381  3.399405   \n",
      "17541 -1.628571  2.566667  2.856548   3.400000   4.616667  4.172024  3.411905   \n",
      "17542 -1.622619  2.579167  2.882143   3.438690   4.629762  4.192262  3.427976   \n",
      "17543 -1.619643  2.591071  2.907738   3.489286   4.651786  4.204167  3.450595   \n",
      "\n",
      "            7         8         9     ...       3840       3841       3842  \\\n",
      "0      10.200000  9.200000  8.100000  ...  25.000000  21.500000  28.700000   \n",
      "1       9.900000  8.850000  7.800000  ...  26.500000  22.100000  29.500000   \n",
      "2       9.500000  8.600000  7.666667  ...  28.000000  22.733333  30.066667   \n",
      "3       9.300000  8.625000  7.750000  ...  28.750000  23.475000  30.775000   \n",
      "4       9.140000  8.640000  7.720000  ...  29.400000  23.740000  31.180000   \n",
      "...          ...       ...       ...  ...        ...        ...        ...   \n",
      "17539   4.379167  2.801786  5.274405  ...  26.920238  15.863690  18.489881   \n",
      "17540   4.394643  2.829762  5.285714  ...  26.914286  15.915476  18.549405   \n",
      "17541   4.407143  2.861905  5.298214  ...  26.902381  15.944048  18.598810   \n",
      "17542   4.427976  2.895238  5.313690  ...  26.932143  15.974405  18.647024   \n",
      "17543   4.445833  2.927976  5.332738  ...  26.955357  16.010119  18.701190   \n",
      "\n",
      "            3843       3844       3845       3846       3847       3848  \\\n",
      "0      21.700000  23.000000  25.000000  21.000000  27.000000  25.000000   \n",
      "1      21.950000  24.100000  26.000000  21.500000  28.500000  26.000000   \n",
      "2      22.366667  24.966667  27.000000  22.333333  30.000000  27.000000   \n",
      "3      23.075000  26.000000  28.000000  22.750000  31.250000  28.000000   \n",
      "4      23.720000  26.820000  28.000000  23.000000  32.600000  29.000000   \n",
      "...          ...        ...        ...        ...        ...        ...   \n",
      "17539  19.902976  17.257143  26.235119  25.577381  25.985714  26.725000   \n",
      "17540  19.929167  17.298214  26.241071  25.607143  25.950000  26.742857   \n",
      "17541  19.955952  17.328571  26.241071  25.630952  25.914286  26.754762   \n",
      "17542  19.969048  17.370833  26.241071  25.648810  25.872619  26.766667   \n",
      "17543  19.973810  17.423810  26.223214  25.666667  25.830952  26.748810   \n",
      "\n",
      "            3849  \n",
      "0      25.000000  \n",
      "1      27.000000  \n",
      "2      28.333333  \n",
      "3      29.250000  \n",
      "4      30.200000  \n",
      "...          ...  \n",
      "17539  27.255952  \n",
      "17540  27.279762  \n",
      "17541  27.297619  \n",
      "17542  27.309524  \n",
      "17543  27.303571  \n",
      "\n",
      "[17544 rows x 3850 columns]\n"
     ]
    }
   ],
   "source": [
    "# rolling\n",
    "df_rolling_temp = df_temp.rolling(window=7*24, min_periods=1) # TODO: 修改window\n",
    "df_rolling_wind = df_wind.rolling(window=7*24, min_periods=1)\n",
    "print(df_rolling_temp.mean())"
   ]
  },
  {
   "cell_type": "code",
   "execution_count": 5,
   "metadata": {},
   "outputs": [
    {
     "name": "stdout",
     "output_type": "stream",
     "text": [
      "       0     1     2     3     4     5     6     7     8     9     ...  3840  \\\n",
      "0       0.0   0.0   0.0   0.0   0.0   0.0   0.0   0.0   0.0   0.0  ...   0.0   \n",
      "1       0.0   0.0   0.0   0.0   0.0   0.0   0.0   0.0   0.0   0.0  ...   0.0   \n",
      "2       0.0   0.0   0.0   0.0   0.0   0.0   0.0   0.0   0.0   0.0  ...   0.0   \n",
      "3       0.0   0.0   0.0   0.0   0.0   0.0   0.0   0.0   0.0   0.0  ...   0.0   \n",
      "4       0.0   0.0   0.0   0.0   0.0   0.0   0.0   0.0   0.0   0.0  ...   0.0   \n",
      "...     ...   ...   ...   ...   ...   ...   ...   ...   ...   ...  ...   ...   \n",
      "17539  -2.5   2.7   4.0   2.7   6.0   5.9   4.6   2.6   4.2   4.3  ...  26.0   \n",
      "17540  -2.5   3.0   3.6   3.5   4.2   5.8   4.2   2.2   4.2   5.2  ...  25.0   \n",
      "17541  -2.5   2.0   3.4   2.5   4.6   5.3   3.7   1.0   4.0   6.0  ...  26.0   \n",
      "17542  -1.7   2.7   3.5   2.6   5.5   5.5   4.1   1.2   3.6   5.9  ...  25.0   \n",
      "17543  -1.0   3.5   4.0   3.2   6.6   5.3   3.9   2.7   4.2   6.4  ...  24.0   \n",
      "\n",
      "       3841  3842  3843  3844  3845  3846  3847  3848  3849  \n",
      "0       0.0   0.0   0.0   0.0   0.0   0.0   0.0   0.0   0.0  \n",
      "1       0.0   0.0   0.0   0.0   0.0   0.0   0.0   0.0   0.0  \n",
      "2       0.0   0.0   0.0   0.0   0.0   0.0   0.0   0.0   0.0  \n",
      "3       0.0   0.0   0.0   0.0   0.0   0.0   0.0   0.0   0.0  \n",
      "4       0.0   0.0   0.0   0.0   0.0   0.0   0.0   0.0   0.0  \n",
      "...     ...   ...   ...   ...   ...   ...   ...   ...   ...  \n",
      "17539  15.7  19.7  18.7  17.1  32.0  34.0  27.0  33.0  33.0  \n",
      "17540  16.4  18.7  18.6  16.6  33.0  33.0  27.0  33.0  34.0  \n",
      "17541  14.9  17.7  17.5  16.0  33.0  32.0  28.0  34.0  34.0  \n",
      "17542  11.7  15.2  16.1  14.2  32.0  29.0  27.0  33.0  34.0  \n",
      "17543  10.3  13.9  15.4  11.6  31.0  26.0  26.0  31.0  32.0  \n",
      "\n",
      "[17544 rows x 3850 columns]\n"
     ]
    }
   ],
   "source": [
    "# shift\n",
    "df_shift_temp = df_temp.shift(periods=7*12, axis=0, fill_value=0)\n",
    "df_shift_wind = df_wind.shift(periods=7*12, axis=0, fill_value=0)\n",
    "print(df_shift_temp)"
   ]
  },
  {
   "cell_type": "code",
   "execution_count": 6,
   "metadata": {},
   "outputs": [
    {
     "name": "stdout",
     "output_type": "stream",
     "text": [
      "       0     1     2     3     4     5     6     7     8     9     ...  3840  \\\n",
      "0       0.0   0.0   0.0   0.0   0.0   0.0   0.0   0.0   0.0   0.0  ...   0.0   \n",
      "1      -0.8   0.0  -0.5   0.1   0.9   0.6   0.0  -0.6  -0.7  -0.6  ...   3.0   \n",
      "2       0.3   0.0   0.1   0.4   0.0  -0.4   0.0  -0.9  -0.4  -0.1  ...   3.0   \n",
      "3      -0.4   0.5   0.2  -0.8  -1.9  -0.3   0.0   0.0   0.6   0.6  ...   0.0   \n",
      "4       0.1   0.5  -0.2  -1.0  -0.5  -0.4   0.0  -0.2   0.0  -0.4  ...   1.0   \n",
      "...     ...   ...   ...   ...   ...   ...   ...   ...   ...   ...  ...   ...   \n",
      "17539  -0.5  -0.3   0.4   0.8   0.3   0.1   0.0   0.0   0.6   0.3  ...  -1.0   \n",
      "17540   0.3   0.3   0.1   0.0   0.0   0.2  -0.5  -0.3   0.3   0.0  ...   2.0   \n",
      "17541   0.2  -0.3   0.4  -0.3  -0.3  -0.2  -0.3   0.0   0.2  -0.2  ...   2.0   \n",
      "17542  -0.3  -0.1   0.0   0.3   0.0   0.1  -0.1  -0.2   0.0   0.3  ...   4.0   \n",
      "17543  -0.7   0.1   0.1   0.0  -0.5  -0.5   0.5  -0.3   0.3   0.1  ...   1.0   \n",
      "\n",
      "       3841  3842  3843  3844  3845  3846  3847  3848  3849  \n",
      "0       0.0   0.0   0.0   0.0   0.0   0.0   0.0   0.0   0.0  \n",
      "1       1.2   1.6   0.5   2.2   2.0   1.0   3.0   2.0   4.0  \n",
      "2       1.3   0.9   1.0   1.5   2.0   2.0   3.0   2.0   2.0  \n",
      "3       1.7   1.7   2.0   2.4   2.0   0.0   2.0   2.0   1.0  \n",
      "4      -0.9  -0.1   1.1   1.0  -3.0   0.0   3.0   2.0   2.0  \n",
      "...     ...   ...   ...   ...   ...   ...   ...   ...   ...  \n",
      "17539   0.6  -0.1   1.7   0.2  -1.0   0.0  -1.0  -1.0   2.0  \n",
      "17540   0.0   0.3   0.1   0.6  -1.0   0.0  -1.0  -1.0   2.0  \n",
      "17541   1.6   2.5   2.7   1.4  -1.0   0.0  -1.0   0.0  -1.0  \n",
      "17542   2.7   3.4   1.6   4.6   1.0   0.0   0.0   0.0   0.0  \n",
      "17543   1.2   2.7   0.1   3.2   2.0   1.0   2.0   1.0   1.0  \n",
      "\n",
      "[17544 rows x 3850 columns]\n"
     ]
    }
   ],
   "source": [
    "# diff\n",
    "df_diff_temp = df_temp.diff(periods=1, axis=0) # TODO: 换用二阶微分？\n",
    "df_diff_temp.fillna(0, inplace=True)\n",
    "df_diff_wind = df_wind.diff(periods=1, axis=0)\n",
    "df_diff_wind.fillna(0, inplace=True)\n",
    "print(df_diff_temp)"
   ]
  },
  {
   "cell_type": "code",
   "execution_count": 7,
   "metadata": {},
   "outputs": [
    {
     "name": "stdout",
     "output_type": "stream",
     "text": [
      "(17544, 3850, 1) (17544, 3850, 1) (17544, 3850, 1)\n"
     ]
    }
   ],
   "source": [
    "temp_rolling = np.expand_dims(np.array(df_rolling_temp.mean()), axis=-1)\n",
    "temp_shift = np.expand_dims(np.array(df_shift_temp), axis=-1)\n",
    "temp_diff = np.expand_dims(np.array(df_diff_temp), axis=-1)\n",
    "wind_rolling = np.expand_dims(np.array(df_rolling_wind.mean()), axis=-1)\n",
    "wind_shift = np.expand_dims(np.array(df_shift_wind), axis=-1)\n",
    "wind_diff = np.expand_dims(np.array(df_diff_wind), axis=-1)\n",
    "print(temp_rolling.shape, temp_shift.shape, temp_diff.shape)"
   ]
  },
  {
   "cell_type": "code",
   "execution_count": 8,
   "metadata": {},
   "outputs": [
    {
     "name": "stdout",
     "output_type": "stream",
     "text": [
      "(17544, 3850, 4) (17544, 3850, 4)\n"
     ]
    }
   ],
   "source": [
    "temp_enhancce = np.concatenate([temp_rolling, temp_shift, temp_diff, temp_selected], axis=-1)\n",
    "wind_enhancce = np.concatenate([wind_rolling, wind_shift, wind_diff, wind_selected], axis=-1)\n",
    "print(temp_enhancce.shape, wind_enhancce.shape)"
   ]
  },
  {
   "cell_type": "code",
   "execution_count": 16,
   "metadata": {},
   "outputs": [
    {
     "name": "stdout",
     "output_type": "stream",
     "text": [
      "[7.2] [7.2]\n"
     ]
    }
   ],
   "source": [
    "print(temp_enhancce[1230, 0, -1:], temp_selected[1230, 0, 0:])"
   ]
  },
  {
   "cell_type": "code",
   "execution_count": 9,
   "metadata": {},
   "outputs": [],
   "source": [
    "# 保存\n",
    "root_path = '/root/mine/BDC2024/dataset/rolling_shift_diff_origin'\n",
    "if not os.path.exists(os.path.join(root_path, 'train')):\n",
    "    os.makedirs(os.path.join(root_path, 'train'))\n",
    "\n",
    "train_path = os.path.join(root_path, 'train')\n",
    "\n",
    "np.save(os.path.join(train_path, 'temp.npy'), temp_enhancce)\n",
    "np.save(os.path.join(train_path, 'wind.npy'), wind_enhancce)"
   ]
  },
  {
   "cell_type": "code",
   "execution_count": 10,
   "metadata": {},
   "outputs": [],
   "source": [
    "! ln -s /root/host/data/global/global_data.npy $root_path/train/global_data.npy"
   ]
  },
  {
   "cell_type": "markdown",
   "metadata": {},
   "source": [
    "划分训练集和验证集"
   ]
  },
  {
   "cell_type": "code",
   "execution_count": null,
   "metadata": {},
   "outputs": [],
   "source": [
    "# 划分训练集和验证集\n",
    "l = temp_selected.shape[0]\n",
    "train_size = int(l * 0.9) # 90%作为训练集\n",
    "train_global = global_selected[:int(train_size/3), :, :, :]\n",
    "train_temp = temp_selected[:train_size, :, :]\n",
    "train_wind = wind_selected[:train_size, :, :]\n",
    "\n",
    "val_global = global_selected[int(train_size/3):, :, :, :]\n",
    "val_temp = temp_selected[train_size:, :, :]\n",
    "val_wind = wind_selected[train_size:, :, :]\n",
    "\n",
    "print(\"Train:\", train_global.shape, train_temp.shape, train_wind.shape)\n",
    "print(\"Val:\", val_global.shape, val_temp.shape, val_wind.shape)"
   ]
  },
  {
   "cell_type": "code",
   "execution_count": null,
   "metadata": {},
   "outputs": [],
   "source": [
    "# 保存训练集和验证集\n",
    "root_path = '/root/mine/BDC2024/dataset/north_rolling'\n",
    "\n",
    "if not os.path.exists(os.path.join(root_path, 'train')):\n",
    "    os.makedirs(os.path.join(root_path, 'train'))\n",
    "if not os.path.exists(os.path.join(root_path, 'val')):\n",
    "    os.makedirs(os.path.join(root_path, 'val'))\n",
    "\n",
    "train_path = os.path.join(root_path, 'train')\n",
    "val_path = os.path.join(root_path, 'val')\n",
    "\n",
    "np.save(os.path.join(train_path, 'global_data.npy'), train_global)\n",
    "np.save(os.path.join(train_path, 'temp.npy'), train_temp)\n",
    "np.save(os.path.join(train_path, 'wind.npy'), train_wind)\n",
    "\n",
    "np.save(os.path.join(val_path, 'global_data.npy'), val_global)\n",
    "np.save(os.path.join(val_path, 'temp.npy'), val_temp)\n",
    "np.save(os.path.join(val_path, 'wind.npy'), val_wind)"
   ]
  },
  {
   "cell_type": "code",
   "execution_count": null,
   "metadata": {},
   "outputs": [],
   "source": [
    "! ls ./dataset/train_selected/"
   ]
  },
  {
   "cell_type": "code",
   "execution_count": null,
   "metadata": {},
   "outputs": [],
   "source": []
  }
 ],
 "metadata": {
  "kernelspec": {
   "display_name": "pytorch",
   "language": "python",
   "name": "python3"
  },
  "language_info": {
   "codemirror_mode": {
    "name": "ipython",
    "version": 3
   },
   "file_extension": ".py",
   "mimetype": "text/x-python",
   "name": "python",
   "nbconvert_exporter": "python",
   "pygments_lexer": "ipython3",
   "version": "3.10.14"
  }
 },
 "nbformat": 4,
 "nbformat_minor": 2
}
